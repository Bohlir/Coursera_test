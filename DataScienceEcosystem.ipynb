{
 "cells": [
  {
   "cell_type": "markdown",
   "id": "4399f591-d136-49a8-9bff-a2d8f8ee58a3",
   "metadata": {},
   "source": [
    "# Data Science Tools and Ecosystem"
   ]
  },
  {
   "cell_type": "markdown",
   "id": "34aa45fb-90d3-4358-bd90-5f8b89689ae4",
   "metadata": {},
   "source": [
    "In this notebook, Data Science Tools and Ecosystem are summarized"
   ]
  },
  {
   "cell_type": "markdown",
   "id": "c9a8fa63-dede-452f-aba8-31717d714877",
   "metadata": {},
   "source": [
    "Some of the popular languages used by Data Scientists include:\n",
    "1. Python\n",
    "2. R\n",
    "3. SQL"
   ]
  },
  {
   "cell_type": "markdown",
   "id": "f11c7e44-80de-44d0-9de6-0add16c14e66",
   "metadata": {},
   "source": [
    "Some of the commonly used libraries used by Data Scientists include:\n",
    "1. TensorFlow\n",
    "2. Pandas\n",
    "3. MatplotLib"
   ]
  },
  {
   "cell_type": "markdown",
   "id": "bcd4024b-0d1a-4a0e-8f18-06ac58ef03fe",
   "metadata": {},
   "source": [
    "| Data Science Tools |\n",
    "|------------------|\n",
    "|Jupyter Notebook|\n",
    "|Github|\n",
    "|Rstudio|"
   ]
  },
  {
   "cell_type": "markdown",
   "id": "f857eeca-8744-4665-a2af-823cad6b16c4",
   "metadata": {},
   "source": [
    "### Below are a few  examples of evaluating arithmetic expressions in Python"
   ]
  },
  {
   "cell_type": "code",
   "execution_count": 1,
   "id": "1eb17cc9-0b7c-4c41-94dc-6d96a860b166",
   "metadata": {
    "tags": []
   },
   "outputs": [
    {
     "data": {
      "text/plain": [
       "17"
      ]
     },
     "execution_count": 1,
     "metadata": {},
     "output_type": "execute_result"
    }
   ],
   "source": [
    "# This is a simplle arithmetic expression to multiply then add integers\n",
    "(3*4)+5"
   ]
  },
  {
   "cell_type": "code",
   "execution_count": 2,
   "id": "6e712374-48b8-4292-811a-711fc753f7b0",
   "metadata": {
    "tags": []
   },
   "outputs": [
    {
     "data": {
      "text/plain": [
       "3.3333333333333335"
      ]
     },
     "execution_count": 2,
     "metadata": {},
     "output_type": "execute_result"
    }
   ],
   "source": [
    "#This will convert 200 minutes to hours by dividing by 60\n",
    "200/60"
   ]
  },
  {
   "cell_type": "markdown",
   "id": "9dd395bf-1066-4efb-bab1-b917ce0edd12",
   "metadata": {},
   "source": [
    "Objectives:\n",
    "- List popular languages for Data Science\n",
    "- Basic arithmetics  in python\n",
    "- List commonly used libraries for Data Science"
   ]
  },
  {
   "cell_type": "markdown",
   "id": "02844afe-5a77-401e-837c-25889bbce573",
   "metadata": {
    "tags": []
   },
   "source": [
    "## Author\n",
    "Simon Aubé"
   ]
  },
  {
   "cell_type": "code",
   "execution_count": null,
   "id": "67e72330-5523-485a-bfd5-18efa861bb0e",
   "metadata": {},
   "outputs": [],
   "source": []
  }
 ],
 "metadata": {
  "kernelspec": {
   "display_name": "Python",
   "language": "python",
   "name": "conda-env-python-py"
  },
  "language_info": {
   "codemirror_mode": {
    "name": "ipython",
    "version": 3
   },
   "file_extension": ".py",
   "mimetype": "text/x-python",
   "name": "python",
   "nbconvert_exporter": "python",
   "pygments_lexer": "ipython3",
   "version": "3.7.12"
  }
 },
 "nbformat": 4,
 "nbformat_minor": 5
}
